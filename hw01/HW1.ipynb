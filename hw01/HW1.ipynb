{
  "cells": [
    {
      "cell_type": "code",
      "execution_count": 627,
      "metadata": {
        "id": "2UCHEgmFnm56"
      },
      "outputs": [],
      "source": [
        "import numpy as np\n",
        "import pandas as pd\n",
        "import matplotlib.pyplot as plt "
      ]
    },
    {
      "cell_type": "code",
      "execution_count": 628,
      "metadata": {
        "id": "TsewcLvXnm5_"
      },
      "outputs": [],
      "source": [
        "# TODO\n",
        "# Implement the linear regression using gradient descent by only numpy\n",
        "\n",
        "class LinearRegression:\n",
        "    \n",
        "    def __init__(self):\n",
        "        \n",
        "        self.epoch = []\n",
        "        self.train_loss = []\n",
        "        self.weights = None # np.random.randint(low = 1000, size=(X.shape[1], 1))  # 維度應該跟著 feature 數量變動 所以還需要改\n",
        "\n",
        "    def fit(self, X, y, lr=0.001, epochs=100, batch_size=1):\n",
        "        \n",
        "        X = np.c_[np.ones((X.shape[0], 1)), X]\n",
        "        # print(y.shape)\n",
        "        y = y.reshape(y.shape[0], 1)\n",
        "        # print(y.shape)\n",
        "        self.weights = np.random.randint(low = 1, size=(X.shape[1], 1))  # 維度應該跟著 feature 數量變動 所以還需要改\n",
        "\n",
        "        for epoch in range(epochs):\n",
        "\n",
        "            for batch in range(len(X)//batch_size):\n",
        "                \n",
        "                start = batch * batch_size\n",
        "                end = start + batch_size\n",
        "\n",
        "                X_batch = X[start:end]\n",
        "                y_batch = y[start:end]\n",
        "\n",
        "                loss = self.get_loss(X_batch, y_batch)\n",
        "                # print(X_batch.T.shape)\n",
        "                # print(self.predict(X_batch).shape)\n",
        "                # print(y_batch.shape)\n",
        "                # print((self.predict(X_batch) - y_batch).shape)\n",
        "                # print()\n",
        "                loss_deri = np.dot(X_batch.T, self.predict(X_batch) - y_batch) / X_batch.shape[0]\n",
        "                # print(np.dot(X_batch.T, self.predict(X_batch) - y_batch).shape)\n",
        "                # print(loss_deri.shape)\n",
        "                self.weights = self.weights - lr*loss_deri\n",
        "\n",
        "                pass\n",
        "            \n",
        "            self.epoch.append(epoch)\n",
        "            self.train_loss.append(self.get_loss(X, y))\n",
        "\n",
        "    def get_loss(self, X, y):\n",
        "        y_pred = self.predict(X)\n",
        "        mse = (np.square(y_pred - y)).mean()\n",
        "        return mse \n",
        "\n",
        "        pass\n",
        "\n",
        "    def predict(self, X):\n",
        "        pred = X @ self.weights\n",
        "        return pred\n",
        "        pass\n",
        "                \n",
        "    def evaluate(self, X, y):\n",
        "        X = np.c_[np.ones((X.shape[0], 1)), X]\n",
        "        y = y.reshape(y.shape[0], 1)\n",
        "        loss = self.get_loss(X, y)\n",
        "        return loss \n",
        "        pass\n",
        "        \n",
        "    def plot_curve(self):\n",
        "        \n",
        "        # self.epoch and self.train_loss may be helpful here. \n",
        "        plt.plot(self.epoch, self.train_loss,'b-')\n",
        "        plt.xlabel('epoches')\n",
        "        plt.ylabel('MSE')\n",
        "        plt.title('MSE loss')\n",
        "        plt.show()\n",
        "\n",
        "        pass\n"
      ]
    },
    {
      "attachments": {},
      "cell_type": "markdown",
      "metadata": {
        "id": "vE0LqmRdnm6B"
      },
      "source": [
        "# Load data & data pre-processing"
      ]
    },
    {
      "cell_type": "code",
      "execution_count": 629,
      "metadata": {
        "id": "nS5JuNtvnm6C"
      },
      "outputs": [],
      "source": [
        "df_train = pd.DataFrame(pd.read_csv(\"./regression_train.csv\"))\n",
        "df_val   = pd.DataFrame(pd.read_csv(\"./regression_val.csv\"))\n",
        "df_test  = pd.DataFrame(pd.read_csv(\"./regression_test.csv\"))"
      ]
    },
    {
      "cell_type": "code",
      "execution_count": 630,
      "metadata": {
        "id": "8ZxnlaLdnm6C"
      },
      "outputs": [
        {
          "data": {
            "text/html": [
              "<div>\n",
              "<style scoped>\n",
              "    .dataframe tbody tr th:only-of-type {\n",
              "        vertical-align: middle;\n",
              "    }\n",
              "\n",
              "    .dataframe tbody tr th {\n",
              "        vertical-align: top;\n",
              "    }\n",
              "\n",
              "    .dataframe thead th {\n",
              "        text-align: right;\n",
              "    }\n",
              "</style>\n",
              "<table border=\"1\" class=\"dataframe\">\n",
              "  <thead>\n",
              "    <tr style=\"text-align: right;\">\n",
              "      <th></th>\n",
              "      <th>age</th>\n",
              "      <th>sex</th>\n",
              "      <th>bmi</th>\n",
              "      <th>children</th>\n",
              "      <th>smoker</th>\n",
              "      <th>region</th>\n",
              "      <th>charges</th>\n",
              "    </tr>\n",
              "  </thead>\n",
              "  <tbody>\n",
              "    <tr>\n",
              "      <th>0</th>\n",
              "      <td>19</td>\n",
              "      <td>female</td>\n",
              "      <td>27.900</td>\n",
              "      <td>0</td>\n",
              "      <td>yes</td>\n",
              "      <td>southwest</td>\n",
              "      <td>16884.92400</td>\n",
              "    </tr>\n",
              "    <tr>\n",
              "      <th>1</th>\n",
              "      <td>18</td>\n",
              "      <td>male</td>\n",
              "      <td>33.770</td>\n",
              "      <td>1</td>\n",
              "      <td>no</td>\n",
              "      <td>southeast</td>\n",
              "      <td>1725.55230</td>\n",
              "    </tr>\n",
              "    <tr>\n",
              "      <th>2</th>\n",
              "      <td>28</td>\n",
              "      <td>male</td>\n",
              "      <td>33.000</td>\n",
              "      <td>3</td>\n",
              "      <td>no</td>\n",
              "      <td>southeast</td>\n",
              "      <td>4449.46200</td>\n",
              "    </tr>\n",
              "    <tr>\n",
              "      <th>3</th>\n",
              "      <td>33</td>\n",
              "      <td>male</td>\n",
              "      <td>22.705</td>\n",
              "      <td>0</td>\n",
              "      <td>no</td>\n",
              "      <td>northwest</td>\n",
              "      <td>21984.47061</td>\n",
              "    </tr>\n",
              "    <tr>\n",
              "      <th>4</th>\n",
              "      <td>32</td>\n",
              "      <td>male</td>\n",
              "      <td>28.880</td>\n",
              "      <td>0</td>\n",
              "      <td>no</td>\n",
              "      <td>northwest</td>\n",
              "      <td>3866.85520</td>\n",
              "    </tr>\n",
              "  </tbody>\n",
              "</table>\n",
              "</div>"
            ],
            "text/plain": [
              "   age     sex     bmi  children smoker     region      charges\n",
              "0   19  female  27.900         0    yes  southwest  16884.92400\n",
              "1   18    male  33.770         1     no  southeast   1725.55230\n",
              "2   28    male  33.000         3     no  southeast   4449.46200\n",
              "3   33    male  22.705         0     no  northwest  21984.47061\n",
              "4   32    male  28.880         0     no  northwest   3866.85520"
            ]
          },
          "execution_count": 630,
          "metadata": {},
          "output_type": "execute_result"
        }
      ],
      "source": [
        "df_train.head()"
      ]
    },
    {
      "cell_type": "code",
      "execution_count": 631,
      "metadata": {
        "id": "CKxM6OJSnm6D"
      },
      "outputs": [
        {
          "data": {
            "text/html": [
              "<div>\n",
              "<style scoped>\n",
              "    .dataframe tbody tr th:only-of-type {\n",
              "        vertical-align: middle;\n",
              "    }\n",
              "\n",
              "    .dataframe tbody tr th {\n",
              "        vertical-align: top;\n",
              "    }\n",
              "\n",
              "    .dataframe thead th {\n",
              "        text-align: right;\n",
              "    }\n",
              "</style>\n",
              "<table border=\"1\" class=\"dataframe\">\n",
              "  <thead>\n",
              "    <tr style=\"text-align: right;\">\n",
              "      <th></th>\n",
              "      <th>age</th>\n",
              "      <th>sex</th>\n",
              "      <th>bmi</th>\n",
              "      <th>children</th>\n",
              "      <th>smoker</th>\n",
              "      <th>region</th>\n",
              "      <th>charges</th>\n",
              "    </tr>\n",
              "  </thead>\n",
              "  <tbody>\n",
              "    <tr>\n",
              "      <th>0</th>\n",
              "      <td>33</td>\n",
              "      <td>male</td>\n",
              "      <td>30.25</td>\n",
              "      <td>0</td>\n",
              "      <td>no</td>\n",
              "      <td>southeast</td>\n",
              "      <td>NaN</td>\n",
              "    </tr>\n",
              "    <tr>\n",
              "      <th>1</th>\n",
              "      <td>19</td>\n",
              "      <td>female</td>\n",
              "      <td>32.49</td>\n",
              "      <td>0</td>\n",
              "      <td>yes</td>\n",
              "      <td>northwest</td>\n",
              "      <td>NaN</td>\n",
              "    </tr>\n",
              "    <tr>\n",
              "      <th>2</th>\n",
              "      <td>50</td>\n",
              "      <td>male</td>\n",
              "      <td>37.07</td>\n",
              "      <td>1</td>\n",
              "      <td>no</td>\n",
              "      <td>southeast</td>\n",
              "      <td>NaN</td>\n",
              "    </tr>\n",
              "    <tr>\n",
              "      <th>3</th>\n",
              "      <td>41</td>\n",
              "      <td>female</td>\n",
              "      <td>32.60</td>\n",
              "      <td>3</td>\n",
              "      <td>no</td>\n",
              "      <td>southwest</td>\n",
              "      <td>NaN</td>\n",
              "    </tr>\n",
              "    <tr>\n",
              "      <th>4</th>\n",
              "      <td>52</td>\n",
              "      <td>female</td>\n",
              "      <td>24.86</td>\n",
              "      <td>0</td>\n",
              "      <td>no</td>\n",
              "      <td>southeast</td>\n",
              "      <td>NaN</td>\n",
              "    </tr>\n",
              "  </tbody>\n",
              "</table>\n",
              "</div>"
            ],
            "text/plain": [
              "   age     sex    bmi  children smoker     region  charges\n",
              "0   33    male  30.25         0     no  southeast      NaN\n",
              "1   19  female  32.49         0    yes  northwest      NaN\n",
              "2   50    male  37.07         1     no  southeast      NaN\n",
              "3   41  female  32.60         3     no  southwest      NaN\n",
              "4   52  female  24.86         0     no  southeast      NaN"
            ]
          },
          "execution_count": 631,
          "metadata": {},
          "output_type": "execute_result"
        }
      ],
      "source": [
        "df_test.head()"
      ]
    },
    {
      "cell_type": "code",
      "execution_count": 632,
      "metadata": {
        "id": "C2VQYttZohkx"
      },
      "outputs": [
        {
          "name": "stdout",
          "output_type": "stream",
          "text": [
            "<class 'pandas.core.frame.DataFrame'>\n",
            "RangeIndex: 938 entries, 0 to 937\n",
            "Data columns (total 7 columns):\n",
            " #   Column    Non-Null Count  Dtype  \n",
            "---  ------    --------------  -----  \n",
            " 0   age       938 non-null    int64  \n",
            " 1   sex       938 non-null    object \n",
            " 2   bmi       938 non-null    float64\n",
            " 3   children  938 non-null    int64  \n",
            " 4   smoker    938 non-null    object \n",
            " 5   region    938 non-null    object \n",
            " 6   charges   938 non-null    float64\n",
            "dtypes: float64(2), int64(2), object(3)\n",
            "memory usage: 51.4+ KB\n"
          ]
        }
      ],
      "source": [
        "df_train.info()"
      ]
    },
    {
      "cell_type": "code",
      "execution_count": 633,
      "metadata": {
        "id": "9wO-wPLypbzB"
      },
      "outputs": [],
      "source": [
        "# TODO\n",
        "# You may do the labelEncoder here\n",
        "\n",
        "#### For multiple features, please use the following settings.####\n",
        "# sex.female -> 0\n",
        "# sex.male -> 1\n",
        "df_train[\"sex\"] = df_train[\"sex\"].str.replace(\"female\", \"0\")\n",
        "df_train[\"sex\"] = df_train[\"sex\"].str.replace(\"male\", \"1\")\n",
        "df_train[\"sex\"] = df_train[\"sex\"].astype(\"int64\")\n",
        "\n",
        "df_val[\"sex\"] = df_val[\"sex\"].str.replace(\"female\", \"0\")\n",
        "df_val[\"sex\"] = df_val[\"sex\"].str.replace(\"male\", \"1\")\n",
        "df_val[\"sex\"] = df_val[\"sex\"].astype(\"int64\")\n",
        "\n",
        "df_test[\"sex\"] = df_test[\"sex\"].str.replace(\"female\", \"0\")\n",
        "df_test[\"sex\"] = df_test[\"sex\"].str.replace(\"male\", \"1\")\n",
        "df_test[\"sex\"] = df_test[\"sex\"].astype(\"int64\")\n",
        "\n",
        "# smoker.no -> 0\n",
        "# smoker.yes -> 1\n",
        "df_train[\"smoker\"] = df_train[\"smoker\"].str.replace(\"no\", \"0\")\n",
        "df_train[\"smoker\"] = df_train[\"smoker\"].str.replace(\"yes\", \"1\")\n",
        "df_train[\"smoker\"] = df_train[\"smoker\"].astype(\"int64\")\n",
        "\n",
        "df_val[\"smoker\"] = df_val[\"smoker\"].str.replace(\"no\", \"0\")\n",
        "df_val[\"smoker\"] = df_val[\"smoker\"].str.replace(\"yes\", \"1\")\n",
        "df_val[\"smoker\"] = df_val[\"smoker\"].astype(\"int64\")\n",
        "\n",
        "df_test[\"smoker\"] = df_test[\"smoker\"].str.replace(\"no\", \"0\")\n",
        "df_test[\"smoker\"] = df_test[\"smoker\"].str.replace(\"yes\", \"1\")\n",
        "df_test[\"smoker\"] = df_test[\"smoker\"].astype(\"int64\")\n",
        "\n",
        "# region.northeast -> 0\n",
        "# region.northwest -> 1\n",
        "# region.southeast -> 2\n",
        "# region.southwest -> 3\n",
        "df_train[\"region\"] = df_train[\"region\"].str.replace(\"northeast\", \"0\")\n",
        "df_train[\"region\"] = df_train[\"region\"].str.replace(\"northwest\", \"1\")\n",
        "df_train[\"region\"] = df_train[\"region\"].str.replace(\"southeast\", \"2\")\n",
        "df_train[\"region\"] = df_train[\"region\"].str.replace(\"southwest\", \"3\")\n",
        "df_train[\"region\"] = df_train[\"region\"].astype(\"int64\")\n",
        "\n",
        "df_val[\"region\"] = df_val[\"region\"].str.replace(\"northeast\", \"0\")\n",
        "df_val[\"region\"] = df_val[\"region\"].str.replace(\"northwest\", \"1\")\n",
        "df_val[\"region\"] = df_val[\"region\"].str.replace(\"southeast\", \"2\")\n",
        "df_val[\"region\"] = df_val[\"region\"].str.replace(\"southwest\", \"3\")\n",
        "df_val[\"region\"] = df_val[\"region\"].astype(\"int64\")\n",
        "\n",
        "df_test[\"region\"] = df_test[\"region\"].str.replace(\"northeast\", \"0\")\n",
        "df_test[\"region\"] = df_test[\"region\"].str.replace(\"northwest\", \"1\")\n",
        "df_test[\"region\"] = df_test[\"region\"].str.replace(\"southeast\", \"2\")\n",
        "df_test[\"region\"] = df_test[\"region\"].str.replace(\"southwest\", \"3\")\n",
        "df_test[\"region\"] = df_test[\"region\"].astype(\"int64\")\n",
        "##################################################################\n",
        "\n",
        "\n",
        "# You may try different label encoding for training your own model\n"
      ]
    },
    {
      "cell_type": "code",
      "execution_count": 634,
      "metadata": {},
      "outputs": [
        {
          "data": {
            "text/html": [
              "<div>\n",
              "<style scoped>\n",
              "    .dataframe tbody tr th:only-of-type {\n",
              "        vertical-align: middle;\n",
              "    }\n",
              "\n",
              "    .dataframe tbody tr th {\n",
              "        vertical-align: top;\n",
              "    }\n",
              "\n",
              "    .dataframe thead th {\n",
              "        text-align: right;\n",
              "    }\n",
              "</style>\n",
              "<table border=\"1\" class=\"dataframe\">\n",
              "  <thead>\n",
              "    <tr style=\"text-align: right;\">\n",
              "      <th></th>\n",
              "      <th>age</th>\n",
              "      <th>sex</th>\n",
              "      <th>bmi</th>\n",
              "      <th>children</th>\n",
              "      <th>smoker</th>\n",
              "      <th>region</th>\n",
              "      <th>charges</th>\n",
              "    </tr>\n",
              "  </thead>\n",
              "  <tbody>\n",
              "    <tr>\n",
              "      <th>0</th>\n",
              "      <td>19</td>\n",
              "      <td>0</td>\n",
              "      <td>27.900</td>\n",
              "      <td>0</td>\n",
              "      <td>1</td>\n",
              "      <td>3</td>\n",
              "      <td>16884.92400</td>\n",
              "    </tr>\n",
              "    <tr>\n",
              "      <th>1</th>\n",
              "      <td>18</td>\n",
              "      <td>1</td>\n",
              "      <td>33.770</td>\n",
              "      <td>1</td>\n",
              "      <td>0</td>\n",
              "      <td>2</td>\n",
              "      <td>1725.55230</td>\n",
              "    </tr>\n",
              "    <tr>\n",
              "      <th>2</th>\n",
              "      <td>28</td>\n",
              "      <td>1</td>\n",
              "      <td>33.000</td>\n",
              "      <td>3</td>\n",
              "      <td>0</td>\n",
              "      <td>2</td>\n",
              "      <td>4449.46200</td>\n",
              "    </tr>\n",
              "    <tr>\n",
              "      <th>3</th>\n",
              "      <td>33</td>\n",
              "      <td>1</td>\n",
              "      <td>22.705</td>\n",
              "      <td>0</td>\n",
              "      <td>0</td>\n",
              "      <td>1</td>\n",
              "      <td>21984.47061</td>\n",
              "    </tr>\n",
              "    <tr>\n",
              "      <th>4</th>\n",
              "      <td>32</td>\n",
              "      <td>1</td>\n",
              "      <td>28.880</td>\n",
              "      <td>0</td>\n",
              "      <td>0</td>\n",
              "      <td>1</td>\n",
              "      <td>3866.85520</td>\n",
              "    </tr>\n",
              "  </tbody>\n",
              "</table>\n",
              "</div>"
            ],
            "text/plain": [
              "   age  sex     bmi  children  smoker  region      charges\n",
              "0   19    0  27.900         0       1       3  16884.92400\n",
              "1   18    1  33.770         1       0       2   1725.55230\n",
              "2   28    1  33.000         3       0       2   4449.46200\n",
              "3   33    1  22.705         0       0       1  21984.47061\n",
              "4   32    1  28.880         0       0       1   3866.85520"
            ]
          },
          "execution_count": 634,
          "metadata": {},
          "output_type": "execute_result"
        }
      ],
      "source": [
        "df_train.head()"
      ]
    },
    {
      "cell_type": "markdown",
      "metadata": {
        "id": "OJj42I-0nm6F"
      },
      "source": [
        "# Single feature (using bmi)"
      ]
    },
    {
      "cell_type": "code",
      "execution_count": 635,
      "metadata": {
        "id": "yedo6qY3nm6F"
      },
      "outputs": [],
      "source": [
        "# Do not modify here\n",
        "x_train = df_train.drop(['charges'], axis=1)\n",
        "y_train = df_train['charges']\n",
        "x_train = x_train[['bmi']]\n",
        "\n",
        "x_val = df_val.drop(['charges'], axis=1)\n",
        "y_val = df_val['charges']\n",
        "x_val = x_val[['bmi']]\n",
        "\n",
        "x_test = df_test.drop(['charges'], axis=1)\n",
        "x_test = x_test[['bmi']]"
      ]
    },
    {
      "cell_type": "code",
      "execution_count": 636,
      "metadata": {
        "id": "ObKo4RachwJ_"
      },
      "outputs": [],
      "source": [
        "# TODO\n",
        "# You may convert data to NumPy here \n",
        "\n",
        "x_train = x_train.to_numpy(dtype='f')\n",
        "# x_train = np.c_[np.ones((x_train.shape[0], 1)), x_train]\n",
        "# print(x_train.shape)\n",
        "# print(x_train.ndim)\n",
        "# print(x_train[0:5])\n",
        "\n",
        "y_train = y_train.to_numpy(dtype='f')\n",
        "# print(y_train.shape)\n",
        "# print(y_train.ndim)\n",
        "# print(y_train[0:5])\n",
        "\n",
        "x_val = x_val.to_numpy(dtype='f')\n",
        "# x_val = np.c_[np.ones((x_val.shape[0], 1)), x_val]\n",
        "\n",
        "y_val = y_val.to_numpy(dtype='f')\n",
        "\n",
        "x_test = x_test.to_numpy(dtype='f')\n",
        "x_test = np.c_[np.ones((x_test.shape[0], 1)), x_test]\n",
        "# print(x_test.shape)"
      ]
    },
    {
      "cell_type": "code",
      "execution_count": 637,
      "metadata": {
        "id": "0ir1zYhBnm6H"
      },
      "outputs": [
        {
          "name": "stdout",
          "output_type": "stream",
          "text": [
            "[139562065.576363, 139562065.57636166, 139562065.57636034]\n"
          ]
        }
      ],
      "source": [
        "batch_size = x_train.shape[0]\n",
        "# print(batch_size)\n",
        "\n",
        "# TODO\n",
        "# Tune the parameters\n",
        "# Refer to slide page 9\n",
        "lr = 0.00082\n",
        "epochs = 250000\n",
        "\n",
        "\n",
        "linear_reg = LinearRegression()\n",
        "linear_reg.fit(x_train, y_train, lr=lr, epochs=epochs, batch_size=batch_size)\n",
        "print(linear_reg.train_loss[-4:-1])"
      ]
    },
    {
      "cell_type": "code",
      "execution_count": 638,
      "metadata": {
        "id": "513GqkCdnm6H"
      },
      "outputs": [
        {
          "name": "stdout",
          "output_type": "stream",
          "text": [
            "Intercepts:  [1381.75868757]\n",
            "Weights:  [[380.1589194]]\n"
          ]
        }
      ],
      "source": [
        "print(\"Intercepts: \", linear_reg.weights[0])\n",
        "print(\"Weights: \", linear_reg.weights[1:])"
      ]
    },
    {
      "cell_type": "code",
      "execution_count": 639,
      "metadata": {
        "id": "gMtpEVnlnm6I"
      },
      "outputs": [
        {
          "name": "stdout",
          "output_type": "stream",
          "text": [
            "training loss:  139562065.576359\n"
          ]
        }
      ],
      "source": [
        "print('training loss: ', linear_reg.evaluate(x_train, y_train))"
      ]
    },
    {
      "cell_type": "code",
      "execution_count": 640,
      "metadata": {
        "id": "xQ42eFmxoujI"
      },
      "outputs": [
        {
          "name": "stdout",
          "output_type": "stream",
          "text": [
            "validation loss:  136920176.373407\n"
          ]
        }
      ],
      "source": [
        "print('validation loss: ', linear_reg.evaluate(x_val, y_val))"
      ]
    },
    {
      "cell_type": "code",
      "execution_count": 641,
      "metadata": {
        "id": "2aNyL15ynm6I"
      },
      "outputs": [],
      "source": [
        "test_pred = linear_reg.predict(x_test)"
      ]
    },
    {
      "cell_type": "code",
      "execution_count": 642,
      "metadata": {
        "id": "wM2x8Tvmnm6J"
      },
      "outputs": [
        {
          "data": {
            "image/png": "[encoded data removed]",
            "text/plain": [
              "<Figure size 640x480 with 1 Axes>"
            ]
          },
          "metadata": {},
          "output_type": "display_data"
        }
      ],
      "source": [
        "linear_reg.plot_curve()"
      ]
    },
    {
      "cell_type": "code",
      "execution_count": 643,
      "metadata": {
        "id": "SIusBE_dnm6J"
      },
      "outputs": [
        {
          "data": {
            "image/png": "[encoded data removed]",
            "text/plain": [
              "<Figure size 640x480 with 1 Axes>"
            ]
          },
          "metadata": {},
          "output_type": "display_data"
        }
      ],
      "source": [
        "# Use matplotlib to plot the predicted line with the training and validation samples\n",
        "\n",
        "# TODO\n",
        "\n",
        "plt.plot(x_train,y_train,'co', label='Training samples', markersize=2)\n",
        "plt.plot(x_val, y_val,'bo', label='Validation samples', markersize=2)\n",
        "x = range(15, 55)\n",
        "y = [linear_reg.weights[1:][0]*x1+linear_reg.weights[0] for x1 in x]\n",
        "plt.plot(x, y, color='#FF0000', label='Linear model')\n",
        "\n",
        "plt.ylabel('Charges')\n",
        "plt.xlabel('BMI')\n",
        "plt.title('Charges vs BMI')\n",
        "plt.legend()\n",
        "plt.show()"
      ]
    },
    {
      "cell_type": "markdown",
      "metadata": {
        "id": "el3_fUSVnm6K"
      },
      "source": [
        "# Multiple features"
      ]
    },
    {
      "cell_type": "code",
      "execution_count": 644,
      "metadata": {
        "id": "hzijeACjnm6L"
      },
      "outputs": [],
      "source": [
        "# Do not modify here\n",
        "\n",
        "x_train = df_train.drop(['charges'], axis=1)\n",
        "y_train = df_train['charges']\n",
        "\n",
        "x_val = df_val.drop(['charges'], axis=1)\n",
        "y_val = df_val['charges']\n",
        "\n",
        "x_test = df_test.drop(['charges'], axis=1)"
      ]
    },
    {
      "cell_type": "code",
      "execution_count": 645,
      "metadata": {
        "id": "vz4Qn8Umh9Gm"
      },
      "outputs": [],
      "source": [
        "# TODO\n",
        "# You may convert data to NumPy here \n",
        "x_train = x_train.to_numpy()\n",
        "y_train = y_train.to_numpy()\n",
        "\n",
        "x_val = x_val.to_numpy()\n",
        "y_val = y_val.to_numpy()\n",
        "\n",
        "x_test = x_test.to_numpy()\n",
        "x_test = np.c_[np.ones((x_test.shape[0], 1)), x_test]\n"
      ]
    },
    {
      "cell_type": "code",
      "execution_count": 646,
      "metadata": {
        "id": "Ek8YAFolnm6M"
      },
      "outputs": [
        {
          "name": "stdout",
          "output_type": "stream",
          "text": [
            "[34697170.25351919, 34697170.253519185, 34697170.253519185]\n"
          ]
        }
      ],
      "source": [
        "batch_size = x_train.shape[0]\n",
        "\n",
        "# TODO\n",
        "# Tune the parameters\n",
        "# Refer to slide page 10\n",
        "lr = 0.00074\n",
        "epochs = 800000\n",
        "\n",
        "linear_reg = LinearRegression()\n",
        "linear_reg.fit(x_train, y_train, lr=lr, epochs=epochs, batch_size=batch_size)\n",
        "print(linear_reg.train_loss[-4:-1])"
      ]
    },
    {
      "cell_type": "code",
      "execution_count": 647,
      "metadata": {
        "id": "77bKB1JKnm6M"
      },
      "outputs": [
        {
          "name": "stdout",
          "output_type": "stream",
          "text": [
            "Intercepts:  [-11857.05679575]\n",
            "Weights:  [[  259.85086158]\n",
            " [ -383.54528022]\n",
            " [  333.33250233]\n",
            " [  442.55746917]\n",
            " [24032.22097208]\n",
            " [ -416.01439697]]\n"
          ]
        }
      ],
      "source": [
        "print(\"Intercepts: \", linear_reg.weights[0])\n",
        "print(\"Weights: \", linear_reg.weights[1:])"
      ]
    },
    {
      "cell_type": "code",
      "execution_count": 648,
      "metadata": {
        "id": "v3bZe5XVnm6N"
      },
      "outputs": [
        {
          "name": "stdout",
          "output_type": "stream",
          "text": [
            "training loss:  34697170.253519185\n"
          ]
        }
      ],
      "source": [
        "print('training loss: ', linear_reg.evaluate(x_train, y_train))"
      ]
    },
    {
      "cell_type": "code",
      "execution_count": 649,
      "metadata": {
        "id": "MgnD2yXVo-67"
      },
      "outputs": [
        {
          "name": "stdout",
          "output_type": "stream",
          "text": [
            "validation loss:  41958565.71631926\n"
          ]
        }
      ],
      "source": [
        "print('validation loss: ', linear_reg.evaluate(x_val, y_val))"
      ]
    },
    {
      "cell_type": "code",
      "execution_count": 650,
      "metadata": {
        "id": "L1dVgl2unm6N"
      },
      "outputs": [],
      "source": [
        "test_pred = linear_reg.predict(x_test)"
      ]
    },
    {
      "cell_type": "code",
      "execution_count": 651,
      "metadata": {
        "id": "Js0IK_Blnm6O"
      },
      "outputs": [
        {
          "data": {
            "image/png": "[encoded data removed]",
            "text/plain": [
              "<Figure size 640x480 with 1 Axes>"
            ]
          },
          "metadata": {},
          "output_type": "display_data"
        }
      ],
      "source": [
        "linear_reg.plot_curve()"
      ]
    },
    {
      "cell_type": "markdown",
      "metadata": {
        "id": "mcyR-WJzxRsw"
      },
      "source": [
        "# Train your own model and predict for testing data."
      ]
    },
    {
      "cell_type": "code",
      "execution_count": 652,
      "metadata": {
        "id": "x-Q1nUG6xZfM"
      },
      "outputs": [
        {
          "name": "stdout",
          "output_type": "stream",
          "text": [
            "test_pred shape:  (200, 1)\n"
          ]
        }
      ],
      "source": [
        "test_pred = linear_reg.predict(x_test)\n",
        "print(\"test_pred shape: \", test_pred.shape)\n",
        "assert test_pred.shape == (200, 1)"
      ]
    },
    {
      "cell_type": "markdown",
      "metadata": {
        "id": "QCeukZcenm6O"
      },
      "source": [
        "# Output the csv file"
      ]
    },
    {
      "cell_type": "code",
      "execution_count": 653,
      "metadata": {
        "id": "SEN7NUgmnm6O"
      },
      "outputs": [],
      "source": [
        "df_test = pd.DataFrame(pd.read_csv(\"./regression_test.csv\"))\n",
        "df_test[\"charges\"] = test_pred\n",
        "df_test.to_csv(\"sample_output.csv\")"
      ]
    }
  ],
  "metadata": {
    "colab": {
      "provenance": []
    },
    "kernelspec": {
      "display_name": "Python 3",
      "language": "python",
      "name": "python3"
    },
    "language_info": {
      "codemirror_mode": {
        "name": "ipython",
        "version": 3
      },
      "file_extension": ".py",
      "mimetype": "text/x-python",
      "name": "python",
      "nbconvert_exporter": "python",
      "pygments_lexer": "ipython3",
      "version": "3.9.16"
    },
    "orig_nbformat": 4,
    "vscode": {
      "interpreter": {
        "hash": "31f2aee4e71d21fbe5cf8b01ff0e069b9275f58929596ceb00d14d90e3e16cd6"
      }
    }
  },
  "nbformat": 4,
  "nbformat_minor": 0
}
